{
 "cells": [
  {
   "cell_type": "markdown",
   "metadata": {},
   "source": [
    "#Assignment 2"
   ]
  },
  {
   "cell_type": "markdown",
   "metadata": {},
   "source": [
    "##Z-test"
   ]
  },
  {
   "cell_type": "markdown",
   "metadata": {},
   "source": [
    "###NULL HYPOTHESIS: the % of former prisoners in the program group employed in an unsubsidized job (average per quarter) after release is the same or lower as the control group, significance level p=0.05"
   ]
  },
  {
   "cell_type": "code",
   "execution_count": 1,
   "metadata": {
    "collapsed": false
   },
   "outputs": [
    {
     "name": "stdout",
     "output_type": "stream",
     "text": [
      "Standard deviation is: 0.0322832705591\n",
      "Z score is 0.309757959054\n",
      "Is the p value 0.38 smaller than the critical value 0.05? \n",
      "No!\n",
      "The Null hypothesis is not rejected\n"
     ]
    }
   ],
   "source": [
    "import numpy as np\n",
    "import pylab as pl\n",
    "import sys\n",
    "import os\n",
    "\n",
    "P_0 = 27.2 * 0.01 #P_0 is percentage for control group\n",
    "P_1 = 28.2 * 0.01 #P_1 is percentage for program group\n",
    "\n",
    "n_0= 409\n",
    "n_1= 564\n",
    "\n",
    "alpha = 0.05 \n",
    "\n",
    "sp_stdev = lambda p, n: np.sqrt(p*(1- p)/n[0]+p*(1-p)/n[1])\n",
    "sp_stdev_3y = sp_stdev((P_0+P_1), [n_0,n_1])\n",
    "\n",
    "print 'Standard deviation is: ' + str(sp_stdev_3y)\n",
    "\n",
    "zscore = lambda p0, p1, s : (p0-p1)/s\n",
    "z_3y = zscore(P_1, P_0, sp_stdev_3y)\n",
    "\n",
    "print 'Z score is '+ str(z_3y)\n",
    "\n",
    "p_3y = 1-.6217 #look up value in table\n",
    "\n",
    "def report_result(p,a):\n",
    "    print 'Is the p value {0:.2f} smaller than the critical value {1:.2f}? '.format(p,a)\n",
    "    if p<a:\n",
    "        print \"Yes!\"\n",
    "    else: print \"No!\"\n",
    "    \n",
    "    print 'The Null hypothesis is {}'.format( 'rejected' if p<a  else 'not rejected')\n",
    "    \n",
    "report_result(p_3y,alpha)"
   ]
  },
  {
   "cell_type": "markdown",
   "metadata": {},
   "source": [
    "##Chi-Squared test"
   ]
  },
  {
   "cell_type": "markdown",
   "metadata": {},
   "source": [
    "|employed for 6 consecutive quarters |     employed   | not employed   |                   \n",
    "|---------------------------|----------------|------------------|---------------------------|\n",
    "| test sample               | 14.7 * 5.64    |   85.3 * 5.64   | 564                       |\n",
    "| control sample            |  11.9 * 4.09  |   88.1 * 4.09   | 409                       |\n",
    "|                           |                |                  |                           |\n",
    "| total                     |   131.579     |     841.421      | 973         |"
   ]
  },
  {
   "cell_type": "markdown",
   "metadata": {},
   "source": [
    "##Null Hypothesis: the % of former prisoners in the program group employed for more than 6 consecutive quarters after release is the same or lower as the control group, significance level p=0.05"
   ]
  },
  {
   "cell_type": "code",
   "execution_count": 10,
   "metadata": {
    "collapsed": false
   },
   "outputs": [
    {
     "name": "stdout",
     "output_type": "stream",
     "text": [
      "1.58939333193\n"
     ]
    }
   ],
   "source": [
    "Ntot = 973\n",
    "expected = 564*409*131.579*841.421\n",
    "sample_values = [[14.7*5.64,85.3*5.64],[11.9*4.09,88.1*4.09]]\n",
    " \n",
    "chisqstat= lambda N, values, expect : N*((values[0][0]*values[1][1]-values[0][1]*values[1][0])**2)/(expect)\n",
    "\n",
    "print chisqstat(Ntot,  sample_values, expected)"
   ]
  },
  {
   "cell_type": "markdown",
   "metadata": {},
   "source": [
    "At an alpha = 0.05 and df = 1, our chi-squared statistic is less than 3.84 meaning we fail to reject the null hypothesis."
   ]
  },
  {
   "cell_type": "code",
   "execution_count": null,
   "metadata": {
    "collapsed": true
   },
   "outputs": [],
   "source": []
  }
 ],
 "metadata": {
  "kernelspec": {
   "display_name": "Python 2",
   "language": "python",
   "name": "python2"
  },
  "language_info": {
   "codemirror_mode": {
    "name": "ipython",
    "version": 2
   },
   "file_extension": ".py",
   "mimetype": "text/x-python",
   "name": "python",
   "nbconvert_exporter": "python",
   "pygments_lexer": "ipython2",
   "version": "2.7.10"
  }
 },
 "nbformat": 4,
 "nbformat_minor": 0
}
