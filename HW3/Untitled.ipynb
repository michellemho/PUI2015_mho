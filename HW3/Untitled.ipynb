{
 "cells": [
  {
   "cell_type": "code",
   "execution_count": 15,
   "metadata": {
    "collapsed": false
   },
   "outputs": [
    {
     "name": "stdout",
     "output_type": "stream",
     "text": [
      "Populating the interactive namespace from numpy and matplotlib\n"
     ]
    }
   ],
   "source": [
    "import pylab as pl\n",
    "import pandas as pd\n",
    "import numpy as np\n",
    "import csv\n",
    "import json\n",
    "import sys\n",
    "\n",
    "%pylab inline"
   ]
  },
  {
   "cell_type": "markdown",
   "metadata": {},
   "source": [
    "#Idea: riders in Brooklyn are younger than riders in Manhattan\n",
    "\n",
    "##Null hypothesis: the average age of subscribers who start rides in Brooklyn stations is greater or the same as subscribers who start rides in Manhattan stations\n",
    "\n",
    "##Alternative hypothesis: the average of subscribers who start rides in Brooklyn stations is lower than that of subscribers who start rides in Manhattan stations"
   ]
  },
  {
   "cell_type": "code",
   "execution_count": 16,
   "metadata": {
    "collapsed": false
   },
   "outputs": [
    {
     "data": {
      "text/html": [
       "<div>\n",
       "<table border=\"1\" class=\"dataframe\">\n",
       "  <thead>\n",
       "    <tr style=\"text-align: right;\">\n",
       "      <th></th>\n",
       "      <th>tripduration</th>\n",
       "      <th>start station id</th>\n",
       "      <th>start station latitude</th>\n",
       "      <th>start station longitude</th>\n",
       "      <th>end station id</th>\n",
       "      <th>end station latitude</th>\n",
       "      <th>end station longitude</th>\n",
       "      <th>bikeid</th>\n",
       "      <th>birth year</th>\n",
       "      <th>gender</th>\n",
       "    </tr>\n",
       "  </thead>\n",
       "  <tbody>\n",
       "    <tr>\n",
       "      <th>count</th>\n",
       "      <td>828711.000000</td>\n",
       "      <td>828711.000000</td>\n",
       "      <td>828711.000000</td>\n",
       "      <td>828711.000000</td>\n",
       "      <td>828711.000000</td>\n",
       "      <td>828711.000000</td>\n",
       "      <td>828711.000000</td>\n",
       "      <td>828711.000000</td>\n",
       "      <td>759624.00000</td>\n",
       "      <td>828711.000000</td>\n",
       "    </tr>\n",
       "    <tr>\n",
       "      <th>mean</th>\n",
       "      <td>883.696671</td>\n",
       "      <td>442.428358</td>\n",
       "      <td>40.734902</td>\n",
       "      <td>-73.991001</td>\n",
       "      <td>432.306155</td>\n",
       "      <td>40.734668</td>\n",
       "      <td>-73.991142</td>\n",
       "      <td>18095.613427</td>\n",
       "      <td>1976.41331</td>\n",
       "      <td>1.123988</td>\n",
       "    </tr>\n",
       "    <tr>\n",
       "      <th>std</th>\n",
       "      <td>9824.519412</td>\n",
       "      <td>348.788004</td>\n",
       "      <td>0.018931</td>\n",
       "      <td>0.011967</td>\n",
       "      <td>317.420499</td>\n",
       "      <td>0.018883</td>\n",
       "      <td>0.011999</td>\n",
       "      <td>2060.397925</td>\n",
       "      <td>11.48124</td>\n",
       "      <td>0.525367</td>\n",
       "    </tr>\n",
       "    <tr>\n",
       "      <th>min</th>\n",
       "      <td>60.000000</td>\n",
       "      <td>72.000000</td>\n",
       "      <td>40.680342</td>\n",
       "      <td>-74.017134</td>\n",
       "      <td>72.000000</td>\n",
       "      <td>40.680342</td>\n",
       "      <td>-74.017134</td>\n",
       "      <td>14529.000000</td>\n",
       "      <td>1899.00000</td>\n",
       "      <td>0.000000</td>\n",
       "    </tr>\n",
       "    <tr>\n",
       "      <th>25%</th>\n",
       "      <td>389.000000</td>\n",
       "      <td>304.000000</td>\n",
       "      <td>40.722055</td>\n",
       "      <td>-73.999733</td>\n",
       "      <td>303.000000</td>\n",
       "      <td>40.722174</td>\n",
       "      <td>-73.999947</td>\n",
       "      <td>16339.000000</td>\n",
       "      <td>1969.00000</td>\n",
       "      <td>1.000000</td>\n",
       "    </tr>\n",
       "    <tr>\n",
       "      <th>50%</th>\n",
       "      <td>609.000000</td>\n",
       "      <td>404.000000</td>\n",
       "      <td>40.736494</td>\n",
       "      <td>-73.990765</td>\n",
       "      <td>403.000000</td>\n",
       "      <td>40.736245</td>\n",
       "      <td>-73.990931</td>\n",
       "      <td>18096.000000</td>\n",
       "      <td>1979.00000</td>\n",
       "      <td>1.000000</td>\n",
       "    </tr>\n",
       "    <tr>\n",
       "      <th>75%</th>\n",
       "      <td>980.000000</td>\n",
       "      <td>490.000000</td>\n",
       "      <td>40.749718</td>\n",
       "      <td>-73.982578</td>\n",
       "      <td>488.000000</td>\n",
       "      <td>40.749013</td>\n",
       "      <td>-73.982912</td>\n",
       "      <td>19828.000000</td>\n",
       "      <td>1985.00000</td>\n",
       "      <td>1.000000</td>\n",
       "    </tr>\n",
       "    <tr>\n",
       "      <th>max</th>\n",
       "      <td>5416640.000000</td>\n",
       "      <td>3002.000000</td>\n",
       "      <td>40.771522</td>\n",
       "      <td>-73.950048</td>\n",
       "      <td>3002.000000</td>\n",
       "      <td>40.771522</td>\n",
       "      <td>-73.950048</td>\n",
       "      <td>21690.000000</td>\n",
       "      <td>1998.00000</td>\n",
       "      <td>2.000000</td>\n",
       "    </tr>\n",
       "  </tbody>\n",
       "</table>\n",
       "</div>"
      ],
      "text/plain": [
       "         tripduration  start station id  start station latitude  \\\n",
       "count   828711.000000     828711.000000           828711.000000   \n",
       "mean       883.696671        442.428358               40.734902   \n",
       "std       9824.519412        348.788004                0.018931   \n",
       "min         60.000000         72.000000               40.680342   \n",
       "25%        389.000000        304.000000               40.722055   \n",
       "50%        609.000000        404.000000               40.736494   \n",
       "75%        980.000000        490.000000               40.749718   \n",
       "max    5416640.000000       3002.000000               40.771522   \n",
       "\n",
       "       start station longitude  end station id  end station latitude  \\\n",
       "count            828711.000000   828711.000000         828711.000000   \n",
       "mean                -73.991001      432.306155             40.734668   \n",
       "std                   0.011967      317.420499              0.018883   \n",
       "min                 -74.017134       72.000000             40.680342   \n",
       "25%                 -73.999733      303.000000             40.722174   \n",
       "50%                 -73.990765      403.000000             40.736245   \n",
       "75%                 -73.982578      488.000000             40.749013   \n",
       "max                 -73.950048     3002.000000             40.771522   \n",
       "\n",
       "       end station longitude         bikeid    birth year         gender  \n",
       "count          828711.000000  828711.000000  759624.00000  828711.000000  \n",
       "mean              -73.991142   18095.613427    1976.41331       1.123988  \n",
       "std                 0.011999    2060.397925      11.48124       0.525367  \n",
       "min               -74.017134   14529.000000    1899.00000       0.000000  \n",
       "25%               -73.999947   16339.000000    1969.00000       1.000000  \n",
       "50%               -73.990931   18096.000000    1979.00000       1.000000  \n",
       "75%               -73.982912   19828.000000    1985.00000       1.000000  \n",
       "max               -73.950048   21690.000000    1998.00000       2.000000  "
      ]
     },
     "execution_count": 16,
     "metadata": {},
     "output_type": "execute_result"
    }
   ],
   "source": [
    "df = pd.read_csv('201410-citibike-tripdata.csv')\n",
    "df.describe()"
   ]
  },
  {
   "cell_type": "code",
   "execution_count": 27,
   "metadata": {
    "collapsed": false
   },
   "outputs": [],
   "source": [
    "jsonFile = open('stations.json','r')\n",
    "data = json.load(jsonFile)\n",
    "stations = data['stationBeanList']\n",
    "\n",
    "with open('stationsIdLatLong.csv','wb') as csvFile:\n",
    "    writer = csv.writer(csvFile)\n",
    "    for s in stations:\n",
    "        stationName = s['id']\n",
    "        stationLat = s['latitude']\n",
    "        stationLong = s['longitude']\n",
    "        row = [stationName,stationLat,stationLong]\n",
    "        writer.writerow(row)\n"
   ]
  },
  {
   "cell_type": "code",
   "execution_count": null,
   "metadata": {
    "collapsed": true
   },
   "outputs": [],
   "source": []
  },
  {
   "cell_type": "code",
   "execution_count": null,
   "metadata": {
    "collapsed": true
   },
   "outputs": [],
   "source": []
  }
 ],
 "metadata": {
  "kernelspec": {
   "display_name": "Python 2",
   "language": "python",
   "name": "python2"
  },
  "language_info": {
   "codemirror_mode": {
    "name": "ipython",
    "version": 2
   },
   "file_extension": ".py",
   "mimetype": "text/x-python",
   "name": "python",
   "nbconvert_exporter": "python",
   "pygments_lexer": "ipython2",
   "version": "2.7.10"
  }
 },
 "nbformat": 4,
 "nbformat_minor": 0
}
